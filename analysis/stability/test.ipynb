{
 "cells": [
  {
   "cell_type": "code",
   "execution_count": 68,
   "metadata": {},
   "outputs": [],
   "source": [
    "import pandas as pd\n",
    "import ast"
   ]
  },
  {
   "cell_type": "code",
   "execution_count": 21,
   "metadata": {},
   "outputs": [],
   "source": [
    "strings = [\"['Malcolm JOHNSTONE (Con) (Unknown)']\",\"['Elaine (Hello) MURRAY (Lab)']\",\"['(Front) Elaine (Hello) MURRAY']\"]"
   ]
  },
  {
   "cell_type": "code",
   "execution_count": 27,
   "metadata": {},
   "outputs": [
    {
     "name": "stdout",
     "output_type": "stream",
     "text": [
      "Unknown\n",
      "Lab\n",
      "Front\n"
     ]
    }
   ],
   "source": [
    "for s in strings:\n",
    "    if s[2] == \"(\":\n",
    "        print(s[3:s.find(\")\")])\n",
    "    else:\n",
    "        print(s.rstrip(\"*\")[s.rfind(\"(\")+1:-3])"
   ]
  },
  {
   "cell_type": "code",
   "execution_count": 56,
   "metadata": {},
   "outputs": [],
   "source": [
    "df = pd.read_csv('/Users/xiaokaren/MyPythonCode/ranked_choice_voting/rcv_proposal/analysis/stability/new/results/american_results_top4.csv')"
   ]
  },
  {
   "cell_type": "code",
   "execution_count": 59,
   "metadata": {},
   "outputs": [
    {
     "name": "stdout",
     "output_type": "stream",
     "text": [
      "['raw_data/american/processed_data/Minneapolis/Minneapolis_11022021_CityCouncilWard2.csv', 'raw_data/american/processed_data/Alameda County/Oakland_11082022_Schoolboarddistrict4.csv']\n"
     ]
    }
   ],
   "source": [
    "print(df[(df['condorcet'] == \"[]\") | (df['top4_condorcet'] == \"[]\")]['file'].tolist())"
   ]
  },
  {
   "cell_type": "code",
   "execution_count": 52,
   "metadata": {},
   "outputs": [
    {
     "name": "stdout",
     "output_type": "stream",
     "text": [
      "12\n"
     ]
    }
   ],
   "source": [
    "print(len(df[(df['condorcet'] == \"[]\") | (df['top4_condorcet'] == \"[]\")]['file'].tolist()))"
   ]
  },
  {
   "cell_type": "code",
   "execution_count": 53,
   "metadata": {},
   "outputs": [
    {
     "name": "stdout",
     "output_type": "stream",
     "text": [
      "['raw_data/scotland/processed_data/argyll22/Ward2-KintyreandtheIslands_ward2.csv', 'raw_data/scotland/processed_data/dumgal12-ballots/AnnandaleNorthWard_dumgal12-12.csv']\n"
     ]
    }
   ],
   "source": [
    "print(df[(df['condorcet'] == \"[]\") & (df['top4_condorcet'] != \"[]\")]['file'].tolist())"
   ]
  },
  {
   "cell_type": "code",
   "execution_count": 54,
   "metadata": {},
   "outputs": [
    {
     "name": "stdout",
     "output_type": "stream",
     "text": [
      "[]\n"
     ]
    }
   ],
   "source": [
    "print(df[(df['condorcet'] != \"[]\") & (df['top4_condorcet'] == \"[]\")]['file'].tolist())"
   ]
  },
  {
   "cell_type": "code",
   "execution_count": 86,
   "metadata": {},
   "outputs": [],
   "source": [
    "test2 = pd.read_csv('/Users/xiaokaren/MyPythonCode/ranked_choice_voting/rcv_proposal/analysis/stability/new/results/american_results_top4.csv')"
   ]
  },
  {
   "cell_type": "code",
   "execution_count": 87,
   "metadata": {},
   "outputs": [
    {
     "name": "stdout",
     "output_type": "stream",
     "text": [
      "[\"['Cardi DeMonaco Jr.']\", \"['Sarah A. Lucido']\", \"['Sue Budd']\", \"['Lynette Lungay Dumalag']\", \"['Margaret Rog']\", \"['Tim Brausen']\", \"['Allard, Jamie']\", \"['Edgmon, Bryce']\", \"['Cronk, Mike']\", \"['Wright, Stanley A.']\", \"['Begich, Nick']\", \"['Tomaszewski, Frank J.']\", \"['Gray, Andrew T.']\", \"['Mears, Donna C.']\", \"['Carrick, Ashley E.']\", \"['Mina, Genevieve G.']\", \"['Dibert, Maxine L.']\", \"['Johnson, DeLena M.']\", \"['Saddler, Dan']\", \"['McCabe, Kevin J.']\", \"['Groh, Cliff']\", \"['Tilton, Cathy L.']\", \"['Stapp, Will B.']\", '[\\'Burke, Robyn \"Niayuq\"\\']', '[\\'Prax, Glenn M. \"Mike\"\\']', \"['Eastman, David']\", '[\\'Patkotak, Josiah B. \"Aullaqsruaq\"\\']', '[\\'Prax, Glenn \"Mike\"\\']', \"['Underwood, Jubilee L.']\", '[\\'Ortiz, Daniel H. \"Dan\"\\']', \"['Tilton, Cathy']\", \"['Stapp, Will']\", \"['Bynum, Jeremy T.']\", \"['Stedman, Bert K.']\", \"['Dunbar, Forrest']\", \"['Claman, Matt']\", \"['Stevens, Gary']\", '[\\'Story, Andrea \"Andi\"\\']', \"['Saddler, Dan']\", \"['McCabe, Kevin J.']\", \"['Nelson, David']\", \"['Himschoot, Rebecca']\", '[\\'Story, Andrea \"Andi\"\\']', \"['Mina, Genevieve G.']\", \"['Dibert, Maxine L.']\", \"['Johnson, DeLena M.']\", \"['Himschoot, Rebecca']\", \"['Kiehl, Jesse']\", \"['Dunleavy/Dahlstrom']\", \"['Myers, Robert H. Jr.']\", \"['Kaufman, James D.']\", \"['Vance, Sarah L.']\", \"['Mears, Donna C.']\", \"['Carrick, Ashley E.']\", \"['Ruffridge, Justin']\", \"['Vance, Sarah L.']\", \"['Tomaszewski, Frank']\", \"['Gray, Andrew T.']\", \"['Ruffridge, Justin M.']\", \"['Gray-Jackson, Elvi']\", \"['Kawasaki, Scott']\", \"['Merrick, Kelly R.']\", \"['Yundt, Robert']\", \"['Bishop, Click']\", \"['Giessel, Cathy']\", \"['Stutes, Louise B.']\", \"['Schwanke, Rebecca A.']\", \"['Eischeid, Ted J.']\", \"['Hannan, Sara']\", \"['Stutes, Louise B.']\", \"['Allard, Jamie']\", \"['Edgmon, Bryce']\", \"['Hannan, Sara']\", \"['Bjorkman, Jesse J.']\", \"['Hoffman, Lyman F.']\", \"['Kiehl, Jesse']\", \"['Tobin, Löki G.']\", \"['Holland, Ky']\", \"['Schrage, Calvin R.']\", \"['Carpenter, Ben']\", \"['Shaw, Laddie H.']\", '[\\'Josephson, Andrew L. \"Andy\"\\']', \"['Elam, Bill']\", \"['Claman, Matt']\", \"['Peltola, Mary S.']\", '[\\'Olson, Donald C. \"Donny\"\\']', \"['Dunbar, Forrest']\", \"['Coulombe, Julie']\", \"['Foster, Neal W.']\", '[\\'Jimmie, Nellie D. \"Unangik\"\\']', '[\\'Kopp, Charles M. \"Chuck\"\\']', \"['Wielechowski, Bill']\", \"['Bjorkman, Jesse J.']\", \"['Shower, Michael K.']\", \"['Moore, Elexie']\", \"['Galvin, Alyse S.']\", \"['Costello, Mia']\", \"['Rauscher, George']\", \"['Wilson, David S.']\", \"['Cronk, Mike']\", \"['Kawasaki, Scott']\", \"['Merrick, Kelly R.']\", \"['Murkowski, Lisa']\", '[\\'Fields, William Z. \"Zack\"\\']', \"['Hall, Carolyn']\", \"['Hughes, Shelley']\", \"['Kaufman, James D.']\", \"['Trump/Vance']\", '[\\'Armstrong, Jennifer \"Jennie\"\\']', '[\\'Fields, William Z. \"Zack\"\\']', '[\\'McKay, Thomas W. \"Tom\"\\']', \"['Rauscher, George']\", \"['Sumner, Jesse M.']\", \"['Galvin, Alyse S.']\", '[\\'McCormick, Conrad J. \"C.J.\"\\']', \"['Johnson, Craig W.']\", \"['Coulombe, Julie']\", \"['Foster, Neal W.']\", \"['Begich, Nick']\", \"['Josephson, Andy']\", \"['Schrage, Calvin R.']\", \"['Aurin Chowdhury']\", \"['Carol Becker']\", \"['Meg Forney']\", \"['Abdi Warsame']\", \"['Jacob Frey']\", \"['Brad Bourn']\", \"['Meg Tuthill']\", \"['Linea Palmisano']\", \"['Steve Brandt']\", \"['Kevin Reich']\", \"['Carol Kummer']\", \"['Anita Tabb']\", \"['Alondra Cano']\", \"['Aisha Chughtai']\", \"['Carol Becker']\", \"['Andrea Jenkins']\", \"['Jacob Frey']\", \"['Liz Wielinski']\", \"['Meg Forney']\", \"['John Quincy']\", \"['BRAD BOURN']\", \"['Scott Vreeland']\", \"['Jon Olson']\", \"['Lisa Goodman']\", \"['LaTrisha Vetaw']\", \"['Betsy Hodges']\", \"['Jeremiah Ellison']\", \"['Aisha Chughtai']\", \"['Andrew Johnson']\", \"['Lisa Goodman']\", \"['Jamal Osman']\", \"['Cam Gordon']\", \"['Linea Palmisano']\", \"['Steve Fletcher']\", \"['Yusra Arab']\", \"['Michael Rainville']\", \"['Phillipe M. Cunningham']\", \"['Elliott Payne']\", \"['BETSY HODGES']\", \"['Andrea Jenkins']\", \"['Sandy Colvin Roy']\", \"['Jeremiah Bey Ellison']\", \"['AK Hassan']\", \"['Kale Severson']\", \"['Jamal Osman']\", \"['Lisa Goodman']\", \"['JOHN ERWIN']\", \"['Jamal Osman']\", \"['Elizabeth Glidden']\", \"['R.T. Rybak']\", \"['Andrew Johnson']\", \"['ALONDRA CANO']\", \"['Chris Meyer']\", \"['Katie Cashman']\", \"['Steffanie Musich']\", \"['Kevin Reich']\", \"['Gary Schiff']\", \"['Jono Cowgill']\", \"['Annie Young']\", \"['Linea Palmisano']\", \"['Andrea Jenkins']\", \"['Robert Lilligren']\", \"['Bob Fine']\", \"['Jason Chavez']\", \"['LINEA PALMISANO']\", \"['Barbara A. Johnson']\", \"['BLONG YANG']\", \"['Becky Alper']\", \"['Diane Hofstede']\", \"['Billy Menz']\", \"['CAROL J. BECKER']\", \"['Jeremy Schroeder']\", \"['Lisa Bender']\", \"['Elizabeth Shaffer']\", \"['Cam Gordon']\", \"['Steffanie Musich']\", \"['Don Samuels']\", \"['Cathy Abene']\", \"['Pat McCarthy']\", \"['Julie Anderson']\", \"['Dale Washam']\", \"['Joyce McDonald']\", \"['Candace Avalos']\", \"['Lentz, Sarah M.']\", \"['Brydon, Sarah M.']\", \"['Sheikh-Yousef, Nasreen A.']\", \"['Crafts, Lydia V.']\", \"['Bell, Arthur L.']\", \"['Golden, Jared Forrest']\", \"['DEM Golden, Jared F.']\", \"['Golden, Jared F.']\", \"['Zager, Samuel Lewis']\", \"['Crafts, Dale John']\", \"['Curry, Glenn Chip']\", \"['Mills, Janet T.']\", \"['Arford, Poppy']\", \"['Talisha Searcy']\", \"['Terry Seamens']\", \"['Jason Small']\", \"['Cindy Dyballa']\", \"['Randy Gibson']\", \"['Shana Fulcher']\", \"['Chao Moua']\", \"['Victor Rivas']\", \"['MATT PACKARD']\", \"['JANET LUNT']\", \"['MICHAEL SNELSON']\", \"['BRENT WINDER']\", \"['MARDI SIFUENTES']\", \"['HALE ROBISON']\", \"['CRISTY WELSH']\", \"['JASON TAYLOR']\", \"['DOUG WELTON']\", \"['ROBERT HADDOCK']\", \"['CHRIS CONDIE']\", \"['JULIE FULLMER']\", \"['Deb Calvert']\", \"['Kimberly Wilburn']\", \"['Kissy C. Coakley']\", \"['Patsy Foster-Bolton']\", \"['David Haeg']\", \"['Brad Wiersum']\", \"['TIMOTHY C. DOHERTY,JR']\", \"['EMMA MULVANEY-STANAK']\", \"['Bob Kiss']\", \"['JOAN SHANNON']\", \"['MELO GRANT']\", \"['MARK BARLOW']\", \"['Andy Montroll']\", \"['Cand 4']\", \"['Cand 3']\", \"['Cand 4']\", \"['Cand 4']\", \"['Cand 3']\", \"['Sandra L. Shullman PhD']\", \"['Cand 1']\", \"['Thema S. Bryant-Davis PhD']\", \"['Cand 1']\", \"['Cand 2']\", \"['Cand 3']\", \"['Cand 2']\", \"['Debra M. Kawahara PhD']\", \"['Pamela E. Scott-Johnson PhD']\", \"['Tamara S. Lyn PhD']\", \"['Shannon L. Wiltsey Stirman PhD']\", \"['Anthony L. Chambers PhD ABPP']\", \"['Candice Hargons PhD']\", \"['Susan D. Clayton PhD']\", \"['M. Lynne Cooper PhD']\", \"['Rosie Phillips Bingham PhD']\", \"['Frank C. Worrell PhD']\", \"['Jennifer F. Kelly PhD ABPP']\", \"['Cand 1']\", \"['Cand 4']\", \"['Mitchell J. Prinstein PhD']\", \"['Le Ondra Clark Harvey PhD']\", \"['NICOLE M. LACHAPELLE']\", \"['AIMEE ENG']\", \"['TERRY TAPLIN']\", \"['ANN-MARIE HOGAN']\", \"['LORI DROSTE']\", \"['REBECCA KAPLAN']\", \"['RASHI KESARWANI']\", \"['BARBARA PARKER']\", \"['JESSE ARREGUÍN']\", \"['PAULINE RUSSO CUTTER']\", \"['CHRISTOPHER DOBBINS']\", \"['GARY D. YEE']\", \"['SOPHIE HAHN']\", \"['NINA SENN']\", \"['COURTNEY RUBY']\", \"['RIGEL ROBINSON']\", \"['JEAN QUAN']\", \"['ADENA ISHII']\", \"['DAVID KAKISHIBA']\", \"['NOEL GALLO']\", \"['SHENG THAO']\", \"['KATE HARRISON']\", \"['RYAN RICHARDSON']\", \"['KATE HARRISON']\", \"['BEN BARTLETT']\", \"['DAN KALB']\", \"['SHANTHI GONZALES']\", \"['JUMOKE HINTON HODGE']\", \"['VANCEDRIC WILLIAMS']\", \"['BRENT BLACKABY']\", \"['CLIFFORD THOMPSON']\", \"['JODY LONDON']\", \"['SHANTHI GONZALES']\", \"['NIKKI FORTUNATO BAS']\", \"['CORINA LOPEZ']\", '[\"SHOSHANA O\\'KEEFE\"]', \"['GARY D. YEE']\", \"['JUMOKE HINTON HODGE']\", \"['FRED SIMON']\", \"['SUSAN WENGRAF']\", \"['JODY LONDON']\", \"['LIBBY SCHAAF']\", \"['GORDON WOZNIAK']\", \"['ROSIE TORRES']\", \"['JAMES HARRIS']\", \"['DEBORAH COX']\", \"['BARBARA PARKER']\", \"['SHENG THAO']\", \"['LOREN TAYLOR']\", \"['LEE THOMAS']\", \"['COURTNEY RUBY']\", \"['AIMEE ENG']\", \"['BEN BARTLETT']\", \"['ROSIE TORRES']\", \"['TERRY TAPLIN']\", \"['BARBARA J. PARKER']\", \"['COURTNEY RUBY']\", \"['JAMES HARRIS']\", \"['KRISS WORTHINGTON']\", \"['BENNY LEE']\", \"['PAULINE RUSSO CUTTER']\", \"['CARROLL FIFE']\", \"['LYNETTE GIBSON MCELHANEY']\", \"['JESSE ARREGUÍN']\", \"['JIM PROLA']\", \"['LYNETTE GIBSON-MCELHANEY']\", \"['JENNIFER BROUHARD']\", \"['ABEL GUILLEN']\", \"['JESSE ARREGUIN']\", \"['DAN KALB']\", \"['BENNY LEE']\", \"['IGOR A. TREGUB']\", \"['MIKE HUTCHINSON']\", \"['DAN KALB']\", \"['ZAC UNGER']\", \"['PETE BALLEW']\", \"['SAM DAVIS']\", \"['LINDA MAIO']\", \"['ED HERNANDEZ']\", \"['JENNY WONG']\", \"['NOEL GALLO']\", \"['NOEL GALLO']\", \"['REBECCA KAPLAN']\", \"['ANN-MARIE HOGAN']\", \"['NOEL GALLO']\", \"['ANNIE CAMPBELL WASHINGTON']\", \"['MIKE HUTCHINSON']\", \"['DESLEY BROOKS']\", \"['VALARIE BACHELOR']\", \"['LARRY E. REID']\", \"['URSULA REED']\", \"['ROWENA BROWN']\", \"['LARRY E. REID']\", \"['KEN HOUSTON']\", \"['LINDA MAIO']\", \"['PETE BALLEW']\", \"['LORI DROSTE']\", \"['CORINA N. LOPEZ']\", \"['PAULINE RUSSO CUTTER']\", \"['VANCEDRIC WILLIAMS']\", \"['REBECCA KAPLAN']\", \"['LIBBY SCHAAF']\", \"['KEVIN JENKINS']\", \"['JANANI RAMACHANDRAN']\", \"['CHERYL DAVILA']\", \"['DESLEY BROOKS']\", \"['MAX ANDERSON']\", \"['RACHEL LATTA']\", \"['LIBBY SCHAAF']\", \"['TOM BATES']\", \"['DARRYL MOORE']\", \"['BRENDA ROBERTS']\", \"['BEN BARTLETT']\", \"['KRISS WORTHINGTON']\", \"['SUSAN WENGRAF']\", \"['VICTOR AGUILAR, JR.']\", \"['CARROLL FIFE']\", \"['PATRICE BERRY']\", \"['DIANA M. SOUZA']\", \"['PATRICIA KERNIGHAN']\", \"['TREVA REID']\", \"['SUSAN WENGRAF']\", \"['STEPHEN H. CASSIDY']\", \"['LAURIE CAPITELLI']\", \"['MICHAEL J. GREGORY']\", \"['CLIFFORD THOMPSON']\", \"['DEBORAH COX']\", \"['SOPHIE HAHN']\", \"['BRYAN AZEVEDO']\", \"['JANE KIM']\", \"['NORMAN YEE']\", \"['MYRNA MELGAR']\", \"['LONDON BREED']\", \"['HILLARY RONEN']\", \"['CHYANNE CHEN']\", \"['BILAL MAHMOOD']\", \"['LONDON BREED']\", \"['SHAMANN WALTON']\", \"['Phil Ting']\", \"['RAFAEL MANDELMAN']\", \"['SANDRA LEE FEWER']\", \"['DENNIS J. HERRERA']\", \"['CONNIE CHAN']\", \"['JOSÉ CISNEROS']\", \"['DAVID CAMPOS']\", \"['DANNY SAUTER']\", \"['MANO RAJU']\", \"['AARON PESKIN']\", \"['JOSÉ CISNEROS']\", \"['MARK FARRELL']\", \"['RAFAEL MANDELMAN']\", \"['LONDON BREED']\", \"['CHESA BOUDIN']\", '[\\'MANOHAR \"MANO\" RAJU\\']', \"['Michela Alioto-pier']\", \"['Arron Peskin']\", \"['BROOKE JENKINS']\", \"['Bevan Dufty']\", \"['NORMAN YEE']\", \"['KIM ALVARENGA']\", \"['Ross Mirkarimi']\", \"['Jose Cisneros']\", \"['Sean R. Elsbernd']\", \"['Gavin Newsom']\", \"['Sophie Maxwell']\", \"['ED LEE']\", \"['GEORGE GASCÓN']\", \"['PAUL MIYAMOTO']\", \"['JEFF ADACHI']\", \"['Tom Ammiano']\", \"['Jake McGoldrick']\", \"['Michela Alioto-pier']\", \"['Chris Daly']\", \"['AARON PESKIN']\", \"['JOAQUÍN TORRES']\", \"['SHAMANN WALTON']\", \"['ED LEE']\", \"['AHSHA SAFAI']\", \"['JOHN AVALOS']\", \"['Ed Jew']\", \"['Gerardo Sandoval']\", \"['CARMEN CHU']\", \"['ROSS MIRKARIMI']\", \"['MARJAN PHILHOUR']\", \"['PAUL MIYAMOTO']\", \"['BROOKE JENKINS']\", \"['CARMEN CHU']\", \"['MATT HANEY']\", \"['JOEL ENGARDIO']\", \"['MATT DORSEY']\", \"['GORDON MAR']\", \"['MALIA COHEN']\", \"['AARON PESKIN']\", \"['SEAN R. ELSBERND']\", \"['DAVID CHIU']\", \"['MYRNA MELGAR']\", \"['JACKIE FIELDER']\", \"['HILLARY RONEN']\", \"['MALIA COHEN']\", \"['VICKI HENNESSY']\", \"['ROSS MIRKARIMI']\", \"['RAFAEL MANDELMAN']\", \"['CATHERINE STEFANI']\", \"['SCOTT WIENER']\", \"['CATHERINE STEFANI']\", \"['DAVID CHIU']\", \"['DEAN PRESTON']\", \"['SUE LEE']\", \"['James F. Reilly']\", \"['Nantasha M. Williams']\", \"['Lincoln Restler']\", \"['Vito Fossella']\", \"['Carmen N. De La Rosa']\", \"['Adrienne E. Adams']\", \"['Oswald Feliz']\", \"['Mercedes Narcisse']\", \"['Selvena N. Brooks-Powers']\", \"['Crystal Hudson']\", \"['Felicia Singh']\", \"['Robert F. Holden']\", \"['Kamillah Hanks']\", \"['Lynn C. Schulman']\", \"['Eric Dinowitz']\", \"['Christopher Marte']\", \"['Pierina Ana Sanchez']\", \"['Julie Menin']\", \"['Carlina Rivera']\", \"['Julie Won']\", \"['Jennifer Gutierrez']\", \"['Steven Saperstein']\", \"['Ari Kagan']\", \"['Elizabeth S. Crowley']\", \"['Erik D. Bottcher']\", \"['Timothy Rosen']\", \"['Vickie Paladino']\", \"['Jumaane D. Williams']\", \"['Curtis A. Sliwa']\", \"['Alexa Aviles']\", \"['Linda Lee']\", \"['Mark S. Murphy']\", \"['Ariel Rivera-Diaz']\", \"['Sandy Nurse']\", \"['Vanessa L. Gibson']\", \"['Tiffany Caban']\", \"['Shekar Krishnan']\", \"['Gale A. Brewer']\", \"['Amanda Farias']\", \"['Mark D. Levine']\", \"['Sandra Ung']\", \"['Joann Ariola']\", \"['Bill Perkins']\", \"['Rafael Salamanca Jr.']\", \"['John-Alexander Sakelos']\", \"['Francisco P. Moya']\", \"['Kevin Riley']\", \"['Marko Kepi']\", \"['Darlene Mealy']\", \"['Chi A. Osse']\", \"['Rita C. Joseph']\", \"['Shahana K. Hanif']\", \"['Charles Barron']\", \"['Farah N. Louis']\", \"['Althea V. Stevens']\", \"['Diana I. Ayala']\", \"['Marjorie Velazquez']\", \"['219566']\", \"['James F. Gennaro']\", \"['Tony Avella']\", \"['Shaun Abreu']\", \"['Cheung, Leland']\", \"['Galluccio, Anthony D.']\", \"['Davis, Henrietta']\", \"['McGovern, Marc C.']\", \"['Nolan, Patricia M.']\", \"['Davis, Henrietta']\", \"['Dexter, Emily R.']\", \"['Nolan, Patricia M.']\", \"['Turkel, Alice L.']\", \"['Rachel B. Weinstein']\", \"['Walser, Nancy']\", \"['Nolan, Patricia M.']\", \"['Galluccio, Anthony D.']\", \"['Galluccio, Anthony D.']\", \"['Nolan, Patricia M.']\", \"['Tony Cadena']\", \"['Andrew Struthers']\"]\n"
     ]
    }
   ],
   "source": [
    "top3trunc = test2['top-3-truncation'].tolist()\n",
    "print(top3trunc)"
   ]
  },
  {
   "cell_type": "code",
   "execution_count": 88,
   "metadata": {},
   "outputs": [],
   "source": [
    "for i in top3trunc:\n",
    "    #print(ast.literal_eval(i))\n",
    "    if len(ast.literal_eval(i)) > 1:\n",
    "        print(i)"
   ]
  },
  {
   "cell_type": "code",
   "execution_count": 82,
   "metadata": {},
   "outputs": [
    {
     "name": "stdout",
     "output_type": "stream",
     "text": [
      "                                                  file  numCands  \\\n",
      "1    raw_data/australia/processed_data/Australia_Vi...        12   \n",
      "2    raw_data/australia/processed_data/Australia_Vi...         9   \n",
      "3    raw_data/australia/processed_data/Australia_Vi...        11   \n",
      "10   raw_data/australia/processed_data/Australia_Ne...         8   \n",
      "12   raw_data/australia/processed_data/Australia_Ne...         5   \n",
      "..                                                 ...       ...   \n",
      "315  raw_data/australia/processed_data/Australia_Ne...         6   \n",
      "316  raw_data/australia/processed_data/Australia_Ne...         7   \n",
      "319  raw_data/australia/processed_data/Australia_Ne...         7   \n",
      "321  raw_data/australia/processed_data/Australia_Ne...         5   \n",
      "322  raw_data/australia/processed_data/Australia_Ne...         6   \n",
      "\n",
      "               plurality  plurality_rank                  IRV  IRV_rank  \\\n",
      "1    ['Kat Theophanous']               1  ['Kat Theophanous']         1   \n",
      "2       ['John Pesutto']               1     ['John Pesutto']         1   \n",
      "3     ['Nathan Lambert']               1   ['Nathan Lambert']         1   \n",
      "10       ['HATCHER Mat']               1      ['HATCHER Mat']         1   \n",
      "12         ['MOORE Sue']               1        ['MOORE Sue']         1   \n",
      "..                   ...             ...                  ...       ...   \n",
      "315   ['McDERMOTT Hugh']               1   ['McDERMOTT Hugh']         1   \n",
      "316  ['CRAKANTHORP Tim']               1  ['CRAKANTHORP Tim']         1   \n",
      "319    ['WILLIAMS Toby']               1    ['REGAN Michael']         2   \n",
      "321      ['CROUCH Adam']               1      ['CROUCH Adam']         1   \n",
      "322       ['AYYAD Tina']               1       ['AYYAD Tina']         1   \n",
      "\n",
      "                 top-two  top-two_rank             borda-pm  borda-pm_rank  \\\n",
      "1    ['Kat Theophanous']             1    ['Campbell Gome']              2   \n",
      "2       ['John Pesutto']             1     ['John Pesutto']              1   \n",
      "3     ['Nathan Lambert']             1   ['Nathan Lambert']              1   \n",
      "10       ['HATCHER Mat']             1      ['HATCHER Mat']              1   \n",
      "12         ['MOORE Sue']             1        ['MOORE Sue']              1   \n",
      "..                   ...           ...                  ...            ...   \n",
      "315   ['McDERMOTT Hugh']             1   ['McDERMOTT Hugh']              1   \n",
      "316  ['CRAKANTHORP Tim']             1  ['CRAKANTHORP Tim']              1   \n",
      "319    ['REGAN Michael']             2    ['REGAN Michael']              2   \n",
      "321      ['CROUCH Adam']             1      ['CROUCH Adam']              1   \n",
      "322       ['AYYAD Tina']             1       ['AYYAD Tina']              1   \n",
      "\n",
      "     ...            smith_irv  smith_irv_rank        smith-minimax  \\\n",
      "1    ...  ['Kat Theophanous']               1  ['Kat Theophanous']   \n",
      "2    ...     ['John Pesutto']               1     ['John Pesutto']   \n",
      "3    ...   ['Nathan Lambert']               1   ['Nathan Lambert']   \n",
      "10   ...      ['HATCHER Mat']               1      ['HATCHER Mat']   \n",
      "12   ...        ['MOORE Sue']               1        ['MOORE Sue']   \n",
      "..   ...                  ...             ...                  ...   \n",
      "315  ...   ['McDERMOTT Hugh']               1   ['McDERMOTT Hugh']   \n",
      "316  ...  ['CRAKANTHORP Tim']               1  ['CRAKANTHORP Tim']   \n",
      "319  ...    ['REGAN Michael']               2    ['REGAN Michael']   \n",
      "321  ...      ['CROUCH Adam']               1      ['CROUCH Adam']   \n",
      "322  ...       ['AYYAD Tina']               1       ['AYYAD Tina']   \n",
      "\n",
      "     smith-minimax_rank         ranked-pairs  ranked-pairs_rank  \\\n",
      "1                     1  ['Kat Theophanous']                  1   \n",
      "2                     1     ['John Pesutto']                  1   \n",
      "3                     1   ['Nathan Lambert']                  1   \n",
      "10                    1      ['HATCHER Mat']                  1   \n",
      "12                    1        ['MOORE Sue']                  1   \n",
      "..                  ...                  ...                ...   \n",
      "315                   1   ['McDERMOTT Hugh']                  1   \n",
      "316                   1  ['CRAKANTHORP Tim']                  1   \n",
      "319                   2    ['REGAN Michael']                  2   \n",
      "321                   1      ['CROUCH Adam']                  1   \n",
      "322                   1       ['AYYAD Tina']                  1   \n",
      "\n",
      "                                               bucklin  bucklin_rank  \\\n",
      "1                 ['Kat Theophanous', 'Campbell Gome']      multiple   \n",
      "2                     ['Melissa Lowe', 'John Pesutto']      multiple   \n",
      "3             ['Nathan Lambert', 'Patchouli Paterson']      multiple   \n",
      "10   ['STARMER Karyn', 'POLLOCK Rob', 'HARRISON N (...      multiple   \n",
      "12                     ['THOMPSON Danny', 'MOORE Sue']      multiple   \n",
      "..                                                 ...           ...   \n",
      "315                  ['BIAG Kalvin', 'McDERMOTT Hugh']      multiple   \n",
      "316              ['CRAKANTHORP Tim', 'MACKENZIE John']      multiple   \n",
      "319                 ['REGAN Michael', 'WILLIAMS Toby']      multiple   \n",
      "321                    ['CROUCH Adam', 'BOUGHTON Sam']      multiple   \n",
      "322                     ['AYYAD Tina', 'MARONEY Mick']      multiple   \n",
      "\n",
      "                approval  approval_rank  \n",
      "1    ['Kat Theophanous']              1  \n",
      "2       ['John Pesutto']              1  \n",
      "3     ['Nathan Lambert']              1  \n",
      "10       ['HATCHER Mat']              1  \n",
      "12         ['MOORE Sue']              1  \n",
      "..                   ...            ...  \n",
      "315   ['McDERMOTT Hugh']              1  \n",
      "316  ['CRAKANTHORP Tim']              1  \n",
      "319    ['REGAN Michael']              2  \n",
      "321      ['CROUCH Adam']              1  \n",
      "322       ['AYYAD Tina']              1  \n",
      "\n",
      "[73 rows x 32 columns]\n"
     ]
    }
   ],
   "source": [
    "print(test2[test2['bucklin_rank'] == 'multiple'])"
   ]
  },
  {
   "cell_type": "code",
   "execution_count": null,
   "metadata": {},
   "outputs": [],
   "source": []
  }
 ],
 "metadata": {
  "kernelspec": {
   "display_name": "Python 3",
   "language": "python",
   "name": "python3"
  },
  "language_info": {
   "codemirror_mode": {
    "name": "ipython",
    "version": 3
   },
   "file_extension": ".py",
   "mimetype": "text/x-python",
   "name": "python",
   "nbconvert_exporter": "python",
   "pygments_lexer": "ipython3",
   "version": "3.12.7"
  }
 },
 "nbformat": 4,
 "nbformat_minor": 2
}
