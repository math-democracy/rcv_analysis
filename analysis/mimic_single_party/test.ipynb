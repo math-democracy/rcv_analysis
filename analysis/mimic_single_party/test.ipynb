{
 "cells": [
  {
   "cell_type": "code",
   "execution_count": 1,
   "metadata": {},
   "outputs": [],
   "source": [
    "import pandas as pd\n",
    "import json"
   ]
  },
  {
   "cell_type": "code",
   "execution_count": 3,
   "metadata": {},
   "outputs": [],
   "source": [
    "df = pd.read_csv('/Users/xiaokaren/MyPythonCode/ranked_choice_voting/rcv_proposal/analysis/mimic_single_party/results/single_v_multi_comparison.csv')"
   ]
  },
  {
   "cell_type": "code",
   "execution_count": 6,
   "metadata": {},
   "outputs": [],
   "source": [
    "with open('/Users/xiaokaren/MyPythonCode/ranked_choice_voting/rcv_proposal/analysis/mimic_single_party/party_breakdown.json', 'r') as file:\n",
    "    party_info = json.load(file)"
   ]
  },
  {
   "cell_type": "code",
   "execution_count": 27,
   "metadata": {},
   "outputs": [],
   "source": [
    "def get_party(candidate):\n",
    "    if candidate[3] == \"(\":\n",
    "        party = candidate[1:candidate.find(\")\")]\n",
    "    else:\n",
    "        left = candidate.rfind(\"(\")\n",
    "        right = candidate[left:].rfind(\")\")\n",
    "        if right == -1:\n",
    "            right = -1\n",
    "        else:\n",
    "            right = left + right\n",
    "        party = candidate[left+1:right]\n",
    "\n",
    "    if party != 'Ind' and party != 'UNKNOWN':\n",
    "        return f\"['{party}']\"\n",
    "    else:\n",
    "        return candidate"
   ]
  },
  {
   "cell_type": "code",
   "execution_count": 34,
   "metadata": {},
   "outputs": [
    {
     "data": {
      "text/html": [
       "<div>\n",
       "<style scoped>\n",
       "    .dataframe tbody tr th:only-of-type {\n",
       "        vertical-align: middle;\n",
       "    }\n",
       "\n",
       "    .dataframe tbody tr th {\n",
       "        vertical-align: top;\n",
       "    }\n",
       "\n",
       "    .dataframe thead th {\n",
       "        text-align: right;\n",
       "    }\n",
       "</style>\n",
       "<table border=\"1\" class=\"dataframe\">\n",
       "  <thead>\n",
       "    <tr style=\"text-align: right;\">\n",
       "      <th></th>\n",
       "      <th>merge_key</th>\n",
       "      <th>numCands_multi</th>\n",
       "      <th>numCands_single</th>\n",
       "      <th>IRV_multi</th>\n",
       "      <th>IRV_single</th>\n",
       "      <th>approval_multi</th>\n",
       "      <th>approval_single</th>\n",
       "      <th>borda-avg_multi</th>\n",
       "      <th>borda-avg_single</th>\n",
       "      <th>borda-om_multi</th>\n",
       "      <th>...</th>\n",
       "      <th>smith-minimax_multi</th>\n",
       "      <th>smith-minimax_single</th>\n",
       "      <th>smith_irv_multi</th>\n",
       "      <th>smith_irv_single</th>\n",
       "      <th>smith_plurality_multi</th>\n",
       "      <th>smith_plurality_single</th>\n",
       "      <th>top-3-truncation_multi</th>\n",
       "      <th>top-3-truncation_single</th>\n",
       "      <th>top-two_multi</th>\n",
       "      <th>top-two_single</th>\n",
       "    </tr>\n",
       "  </thead>\n",
       "  <tbody>\n",
       "    <tr>\n",
       "      <th>5</th>\n",
       "      <td>dumgal17-ballots/NorthWestDumfries_dumgal17-06...</td>\n",
       "      <td>7</td>\n",
       "      <td>5</td>\n",
       "      <td>['Graham BELL (Con)']</td>\n",
       "      <td>['SNP']</td>\n",
       "      <td>['David MCKIE (Lab)']</td>\n",
       "      <td>['Lab']</td>\n",
       "      <td>['David MCKIE (Lab)']</td>\n",
       "      <td>['Lab']</td>\n",
       "      <td>['David MCKIE (Lab)']</td>\n",
       "      <td>...</td>\n",
       "      <td>['David MCKIE (Lab)']</td>\n",
       "      <td>['Lab']</td>\n",
       "      <td>['David MCKIE (Lab)']</td>\n",
       "      <td>['Lab']</td>\n",
       "      <td>['David MCKIE (Lab)']</td>\n",
       "      <td>['Lab']</td>\n",
       "      <td>['Graham BELL (Con)']</td>\n",
       "      <td>['Lab']</td>\n",
       "      <td>['Graham BELL (Con)']</td>\n",
       "      <td>['Lab']</td>\n",
       "    </tr>\n",
       "    <tr>\n",
       "      <th>18</th>\n",
       "      <td>w-lothian17-ballots/Ward5-EastLivingstonandEas...</td>\n",
       "      <td>8</td>\n",
       "      <td>5</td>\n",
       "      <td>['Dave KING (Lab)']</td>\n",
       "      <td>['SNP']</td>\n",
       "      <td>['Dave KING (Lab)']</td>\n",
       "      <td>['SNP']</td>\n",
       "      <td>['Dave KING (Lab)']</td>\n",
       "      <td>['SNP']</td>\n",
       "      <td>['Carl JOHN (SNP)']</td>\n",
       "      <td>...</td>\n",
       "      <td>['Dave KING (Lab)']</td>\n",
       "      <td>['SNP']</td>\n",
       "      <td>['Dave KING (Lab)']</td>\n",
       "      <td>['SNP']</td>\n",
       "      <td>['Dave KING (Lab)']</td>\n",
       "      <td>['SNP']</td>\n",
       "      <td>['Dave KING (Lab)']</td>\n",
       "      <td>['SNP']</td>\n",
       "      <td>['Dave KING (Lab)']</td>\n",
       "      <td>['SNP']</td>\n",
       "    </tr>\n",
       "    <tr>\n",
       "      <th>21</th>\n",
       "      <td>glasgow12/Ward7Langside_glasgow12-07-recalc.csv</td>\n",
       "      <td>8</td>\n",
       "      <td>7</td>\n",
       "      <td>['Archie GRAHAM (Lab)']</td>\n",
       "      <td>['SNP']</td>\n",
       "      <td>['Archie GRAHAM (Lab)']</td>\n",
       "      <td>['SNP']</td>\n",
       "      <td>['Susan AITKEN (SNP)']</td>\n",
       "      <td>['SNP']</td>\n",
       "      <td>['Susan AITKEN (SNP)']</td>\n",
       "      <td>...</td>\n",
       "      <td>['Archie GRAHAM (Lab)']</td>\n",
       "      <td>['SNP']</td>\n",
       "      <td>['Archie GRAHAM (Lab)']</td>\n",
       "      <td>['SNP']</td>\n",
       "      <td>['Archie GRAHAM (Lab)']</td>\n",
       "      <td>['SNP']</td>\n",
       "      <td>['Archie GRAHAM (Lab)']</td>\n",
       "      <td>['SNP']</td>\n",
       "      <td>['Archie GRAHAM (Lab)']</td>\n",
       "      <td>['SNP']</td>\n",
       "    </tr>\n",
       "    <tr>\n",
       "      <th>32</th>\n",
       "      <td>glasgow12/Ward12PartickWest_glasgow12-12.csv</td>\n",
       "      <td>13</td>\n",
       "      <td>10</td>\n",
       "      <td>['Aileen COLLERAN (Lab)']</td>\n",
       "      <td>['SNP']</td>\n",
       "      <td>['Aileen COLLERAN (Lab)']</td>\n",
       "      <td>['SNP']</td>\n",
       "      <td>['Aileen COLLERAN (Lab)']</td>\n",
       "      <td>['Lab']</td>\n",
       "      <td>['Aileen COLLERAN (Lab)']</td>\n",
       "      <td>...</td>\n",
       "      <td>['Aileen COLLERAN (Lab)']</td>\n",
       "      <td>['SNP']</td>\n",
       "      <td>['Aileen COLLERAN (Lab)']</td>\n",
       "      <td>['SNP']</td>\n",
       "      <td>['Aileen COLLERAN (Lab)']</td>\n",
       "      <td>['SNP']</td>\n",
       "      <td>['Aileen COLLERAN (Lab)']</td>\n",
       "      <td>['SNP']</td>\n",
       "      <td>['Aileen COLLERAN (Lab)']</td>\n",
       "      <td>['SNP']</td>\n",
       "    </tr>\n",
       "    <tr>\n",
       "      <th>60</th>\n",
       "      <td>glasgow2007 preflib/govan_govan.csv</td>\n",
       "      <td>11</td>\n",
       "      <td>9</td>\n",
       "      <td>['# ALTERNATIVE NAME 6: Allison Hunter (SNP)']</td>\n",
       "      <td>['Lab']</td>\n",
       "      <td>['# ALTERNATIVE NAME 3: Stephen Dornan (Lab)']</td>\n",
       "      <td>['Lab']</td>\n",
       "      <td>['# ALTERNATIVE NAME 6: Allison Hunter (SNP)']</td>\n",
       "      <td>['Lab']</td>\n",
       "      <td>['# ALTERNATIVE NAME 3: Stephen Dornan (Lab)']</td>\n",
       "      <td>...</td>\n",
       "      <td>['# ALTERNATIVE NAME 3: Stephen Dornan (Lab)']</td>\n",
       "      <td>['Lab']</td>\n",
       "      <td>['# ALTERNATIVE NAME 6: Allison Hunter (SNP)']</td>\n",
       "      <td>['Lab']</td>\n",
       "      <td>['# ALTERNATIVE NAME 6: Allison Hunter (SNP)']</td>\n",
       "      <td>['Lab']</td>\n",
       "      <td>['# ALTERNATIVE NAME 6: Allison Hunter (SNP)']</td>\n",
       "      <td>['Lab']</td>\n",
       "      <td>['# ALTERNATIVE NAME 4: John Flanagan (Lab)']</td>\n",
       "      <td>['Lab']</td>\n",
       "    </tr>\n",
       "    <tr>\n",
       "      <th>...</th>\n",
       "      <td>...</td>\n",
       "      <td>...</td>\n",
       "      <td>...</td>\n",
       "      <td>...</td>\n",
       "      <td>...</td>\n",
       "      <td>...</td>\n",
       "      <td>...</td>\n",
       "      <td>...</td>\n",
       "      <td>...</td>\n",
       "      <td>...</td>\n",
       "      <td>...</td>\n",
       "      <td>...</td>\n",
       "      <td>...</td>\n",
       "      <td>...</td>\n",
       "      <td>...</td>\n",
       "      <td>...</td>\n",
       "      <td>...</td>\n",
       "      <td>...</td>\n",
       "      <td>...</td>\n",
       "      <td>...</td>\n",
       "      <td>...</td>\n",
       "    </tr>\n",
       "    <tr>\n",
       "      <th>1048</th>\n",
       "      <td>e-renfs12-ballots/BusbyClarkstonandEagleshamWa...</td>\n",
       "      <td>6</td>\n",
       "      <td>5</td>\n",
       "      <td>['Alan LAFFERTY (Lab)']</td>\n",
       "      <td>['Con']</td>\n",
       "      <td>['Alan LAFFERTY (Lab)']</td>\n",
       "      <td>['Con']</td>\n",
       "      <td>['Alan LAFFERTY (Lab)']</td>\n",
       "      <td>['Lab']</td>\n",
       "      <td>['Alan LAFFERTY (Lab)']</td>\n",
       "      <td>...</td>\n",
       "      <td>['Alan LAFFERTY (Lab)']</td>\n",
       "      <td>['Con']</td>\n",
       "      <td>['Alan LAFFERTY (Lab)']</td>\n",
       "      <td>['Con']</td>\n",
       "      <td>['Alan LAFFERTY (Lab)']</td>\n",
       "      <td>['Con']</td>\n",
       "      <td>['Alan LAFFERTY (Lab)']</td>\n",
       "      <td>['Con']</td>\n",
       "      <td>['Alan LAFFERTY (Lab)']</td>\n",
       "      <td>['Con']</td>\n",
       "    </tr>\n",
       "    <tr>\n",
       "      <th>1054</th>\n",
       "      <td>e-lothian17-ballots/DunbarandEastLinton_e-loth...</td>\n",
       "      <td>6</td>\n",
       "      <td>5</td>\n",
       "      <td>['Sue KEMPSON (Con)']</td>\n",
       "      <td>['SNP']</td>\n",
       "      <td>['Norman HAMPSHIRE (Lab)']</td>\n",
       "      <td>['Lab']</td>\n",
       "      <td>['Norman HAMPSHIRE (Lab)']</td>\n",
       "      <td>['Lab']</td>\n",
       "      <td>['Norman HAMPSHIRE (Lab)']</td>\n",
       "      <td>...</td>\n",
       "      <td>['Norman HAMPSHIRE (Lab)']</td>\n",
       "      <td>['Lab']</td>\n",
       "      <td>['Norman HAMPSHIRE (Lab)']</td>\n",
       "      <td>['Lab']</td>\n",
       "      <td>['Norman HAMPSHIRE (Lab)']</td>\n",
       "      <td>['Lab']</td>\n",
       "      <td>['Norman HAMPSHIRE (Lab)']</td>\n",
       "      <td>['Lab']</td>\n",
       "      <td>['Norman HAMPSHIRE (Lab)']</td>\n",
       "      <td>['SNP']</td>\n",
       "    </tr>\n",
       "    <tr>\n",
       "      <th>1101</th>\n",
       "      <td>dumgal12-ballots/MidGallowayWard_dumgal12-03.csv</td>\n",
       "      <td>6</td>\n",
       "      <td>4</td>\n",
       "      <td>['(Ind) Jim MCCOLM']</td>\n",
       "      <td>['SNP']</td>\n",
       "      <td>['(Ind) Jim MCCOLM']</td>\n",
       "      <td>['SNP']</td>\n",
       "      <td>['(Ind) Jim MCCOLM']</td>\n",
       "      <td>['(Ind) Jim MCCOLM']</td>\n",
       "      <td>['(Ind) Jim MCCOLM']</td>\n",
       "      <td>...</td>\n",
       "      <td>['(Ind) Jim MCCOLM']</td>\n",
       "      <td>['SNP']</td>\n",
       "      <td>['(Ind) Jim MCCOLM']</td>\n",
       "      <td>['SNP']</td>\n",
       "      <td>['(Ind) Jim MCCOLM']</td>\n",
       "      <td>['SNP']</td>\n",
       "      <td>['(Ind) Jim MCCOLM']</td>\n",
       "      <td>['(Ind) Jim MCCOLM']</td>\n",
       "      <td>['(Ind) Jim MCCOLM']</td>\n",
       "      <td>['SNP']</td>\n",
       "    </tr>\n",
       "    <tr>\n",
       "      <th>1116</th>\n",
       "      <td>w-lothian12-ballots/Broxburn,UphallandWinchbur...</td>\n",
       "      <td>6</td>\n",
       "      <td>4</td>\n",
       "      <td>['Diane CALDER (SNP)']</td>\n",
       "      <td>['Lab']</td>\n",
       "      <td>['Diane CALDER (SNP)']</td>\n",
       "      <td>['Lab']</td>\n",
       "      <td>['Diane CALDER (SNP)']</td>\n",
       "      <td>['Lab']</td>\n",
       "      <td>['Diane CALDER (SNP)']</td>\n",
       "      <td>...</td>\n",
       "      <td>['Diane CALDER (SNP)']</td>\n",
       "      <td>['Lab']</td>\n",
       "      <td>['Diane CALDER (SNP)']</td>\n",
       "      <td>['Lab']</td>\n",
       "      <td>['Diane CALDER (SNP)']</td>\n",
       "      <td>['Lab']</td>\n",
       "      <td>['Diane CALDER (SNP)']</td>\n",
       "      <td>['Lab']</td>\n",
       "      <td>['Diane CALDER (SNP)']</td>\n",
       "      <td>['Lab']</td>\n",
       "    </tr>\n",
       "    <tr>\n",
       "      <th>1120</th>\n",
       "      <td>e-ayrshire22/Ward3-KilmarnockWestandCrosshouse...</td>\n",
       "      <td>7</td>\n",
       "      <td>6</td>\n",
       "      <td>['Lillian JONES (Lab)']</td>\n",
       "      <td>['SNP']</td>\n",
       "      <td>['Lillian JONES (Lab)']</td>\n",
       "      <td>['SNP']</td>\n",
       "      <td>['Lillian JONES (Lab)']</td>\n",
       "      <td>['Lab']</td>\n",
       "      <td>['Iain LINTON (SNP)']</td>\n",
       "      <td>...</td>\n",
       "      <td>['Lillian JONES (Lab)']</td>\n",
       "      <td>['SNP']</td>\n",
       "      <td>['Lillian JONES (Lab)']</td>\n",
       "      <td>['SNP']</td>\n",
       "      <td>['Lillian JONES (Lab)']</td>\n",
       "      <td>['SNP']</td>\n",
       "      <td>['Lillian JONES (Lab)']</td>\n",
       "      <td>['SNP']</td>\n",
       "      <td>['Lillian JONES (Lab)']</td>\n",
       "      <td>['SNP']</td>\n",
       "    </tr>\n",
       "  </tbody>\n",
       "</table>\n",
       "<p>105 rows × 35 columns</p>\n",
       "</div>"
      ],
      "text/plain": [
       "                                              merge_key  numCands_multi  \\\n",
       "5     dumgal17-ballots/NorthWestDumfries_dumgal17-06...               7   \n",
       "18    w-lothian17-ballots/Ward5-EastLivingstonandEas...               8   \n",
       "21      glasgow12/Ward7Langside_glasgow12-07-recalc.csv               8   \n",
       "32         glasgow12/Ward12PartickWest_glasgow12-12.csv              13   \n",
       "60                  glasgow2007 preflib/govan_govan.csv              11   \n",
       "...                                                 ...             ...   \n",
       "1048  e-renfs12-ballots/BusbyClarkstonandEagleshamWa...               6   \n",
       "1054  e-lothian17-ballots/DunbarandEastLinton_e-loth...               6   \n",
       "1101   dumgal12-ballots/MidGallowayWard_dumgal12-03.csv               6   \n",
       "1116  w-lothian12-ballots/Broxburn,UphallandWinchbur...               6   \n",
       "1120  e-ayrshire22/Ward3-KilmarnockWestandCrosshouse...               7   \n",
       "\n",
       "      numCands_single                                       IRV_multi  \\\n",
       "5                   5                           ['Graham BELL (Con)']   \n",
       "18                  5                             ['Dave KING (Lab)']   \n",
       "21                  7                         ['Archie GRAHAM (Lab)']   \n",
       "32                 10                       ['Aileen COLLERAN (Lab)']   \n",
       "60                  9  ['# ALTERNATIVE NAME 6: Allison Hunter (SNP)']   \n",
       "...               ...                                             ...   \n",
       "1048                5                         ['Alan LAFFERTY (Lab)']   \n",
       "1054                5                           ['Sue KEMPSON (Con)']   \n",
       "1101                4                            ['(Ind) Jim MCCOLM']   \n",
       "1116                4                          ['Diane CALDER (SNP)']   \n",
       "1120                6                         ['Lillian JONES (Lab)']   \n",
       "\n",
       "     IRV_single                                  approval_multi  \\\n",
       "5       ['SNP']                           ['David MCKIE (Lab)']   \n",
       "18      ['SNP']                             ['Dave KING (Lab)']   \n",
       "21      ['SNP']                         ['Archie GRAHAM (Lab)']   \n",
       "32      ['SNP']                       ['Aileen COLLERAN (Lab)']   \n",
       "60      ['Lab']  ['# ALTERNATIVE NAME 3: Stephen Dornan (Lab)']   \n",
       "...         ...                                             ...   \n",
       "1048    ['Con']                         ['Alan LAFFERTY (Lab)']   \n",
       "1054    ['SNP']                      ['Norman HAMPSHIRE (Lab)']   \n",
       "1101    ['SNP']                            ['(Ind) Jim MCCOLM']   \n",
       "1116    ['Lab']                          ['Diane CALDER (SNP)']   \n",
       "1120    ['SNP']                         ['Lillian JONES (Lab)']   \n",
       "\n",
       "     approval_single                                 borda-avg_multi  \\\n",
       "5            ['Lab']                           ['David MCKIE (Lab)']   \n",
       "18           ['SNP']                             ['Dave KING (Lab)']   \n",
       "21           ['SNP']                          ['Susan AITKEN (SNP)']   \n",
       "32           ['SNP']                       ['Aileen COLLERAN (Lab)']   \n",
       "60           ['Lab']  ['# ALTERNATIVE NAME 6: Allison Hunter (SNP)']   \n",
       "...              ...                                             ...   \n",
       "1048         ['Con']                         ['Alan LAFFERTY (Lab)']   \n",
       "1054         ['Lab']                      ['Norman HAMPSHIRE (Lab)']   \n",
       "1101         ['SNP']                            ['(Ind) Jim MCCOLM']   \n",
       "1116         ['Lab']                          ['Diane CALDER (SNP)']   \n",
       "1120         ['SNP']                         ['Lillian JONES (Lab)']   \n",
       "\n",
       "          borda-avg_single                                  borda-om_multi  \\\n",
       "5                  ['Lab']                           ['David MCKIE (Lab)']   \n",
       "18                 ['SNP']                             ['Carl JOHN (SNP)']   \n",
       "21                 ['SNP']                          ['Susan AITKEN (SNP)']   \n",
       "32                 ['Lab']                       ['Aileen COLLERAN (Lab)']   \n",
       "60                 ['Lab']  ['# ALTERNATIVE NAME 3: Stephen Dornan (Lab)']   \n",
       "...                    ...                                             ...   \n",
       "1048               ['Lab']                         ['Alan LAFFERTY (Lab)']   \n",
       "1054               ['Lab']                      ['Norman HAMPSHIRE (Lab)']   \n",
       "1101  ['(Ind) Jim MCCOLM']                            ['(Ind) Jim MCCOLM']   \n",
       "1116               ['Lab']                          ['Diane CALDER (SNP)']   \n",
       "1120               ['Lab']                           ['Iain LINTON (SNP)']   \n",
       "\n",
       "      ...                             smith-minimax_multi  \\\n",
       "5     ...                           ['David MCKIE (Lab)']   \n",
       "18    ...                             ['Dave KING (Lab)']   \n",
       "21    ...                         ['Archie GRAHAM (Lab)']   \n",
       "32    ...                       ['Aileen COLLERAN (Lab)']   \n",
       "60    ...  ['# ALTERNATIVE NAME 3: Stephen Dornan (Lab)']   \n",
       "...   ...                                             ...   \n",
       "1048  ...                         ['Alan LAFFERTY (Lab)']   \n",
       "1054  ...                      ['Norman HAMPSHIRE (Lab)']   \n",
       "1101  ...                            ['(Ind) Jim MCCOLM']   \n",
       "1116  ...                          ['Diane CALDER (SNP)']   \n",
       "1120  ...                         ['Lillian JONES (Lab)']   \n",
       "\n",
       "     smith-minimax_single                                 smith_irv_multi  \\\n",
       "5                 ['Lab']                           ['David MCKIE (Lab)']   \n",
       "18                ['SNP']                             ['Dave KING (Lab)']   \n",
       "21                ['SNP']                         ['Archie GRAHAM (Lab)']   \n",
       "32                ['SNP']                       ['Aileen COLLERAN (Lab)']   \n",
       "60                ['Lab']  ['# ALTERNATIVE NAME 6: Allison Hunter (SNP)']   \n",
       "...                   ...                                             ...   \n",
       "1048              ['Con']                         ['Alan LAFFERTY (Lab)']   \n",
       "1054              ['Lab']                      ['Norman HAMPSHIRE (Lab)']   \n",
       "1101              ['SNP']                            ['(Ind) Jim MCCOLM']   \n",
       "1116              ['Lab']                          ['Diane CALDER (SNP)']   \n",
       "1120              ['SNP']                         ['Lillian JONES (Lab)']   \n",
       "\n",
       "     smith_irv_single                           smith_plurality_multi  \\\n",
       "5             ['Lab']                           ['David MCKIE (Lab)']   \n",
       "18            ['SNP']                             ['Dave KING (Lab)']   \n",
       "21            ['SNP']                         ['Archie GRAHAM (Lab)']   \n",
       "32            ['SNP']                       ['Aileen COLLERAN (Lab)']   \n",
       "60            ['Lab']  ['# ALTERNATIVE NAME 6: Allison Hunter (SNP)']   \n",
       "...               ...                                             ...   \n",
       "1048          ['Con']                         ['Alan LAFFERTY (Lab)']   \n",
       "1054          ['Lab']                      ['Norman HAMPSHIRE (Lab)']   \n",
       "1101          ['SNP']                            ['(Ind) Jim MCCOLM']   \n",
       "1116          ['Lab']                          ['Diane CALDER (SNP)']   \n",
       "1120          ['SNP']                         ['Lillian JONES (Lab)']   \n",
       "\n",
       "     smith_plurality_single                          top-3-truncation_multi  \\\n",
       "5                   ['Lab']                           ['Graham BELL (Con)']   \n",
       "18                  ['SNP']                             ['Dave KING (Lab)']   \n",
       "21                  ['SNP']                         ['Archie GRAHAM (Lab)']   \n",
       "32                  ['SNP']                       ['Aileen COLLERAN (Lab)']   \n",
       "60                  ['Lab']  ['# ALTERNATIVE NAME 6: Allison Hunter (SNP)']   \n",
       "...                     ...                                             ...   \n",
       "1048                ['Con']                         ['Alan LAFFERTY (Lab)']   \n",
       "1054                ['Lab']                      ['Norman HAMPSHIRE (Lab)']   \n",
       "1101                ['SNP']                            ['(Ind) Jim MCCOLM']   \n",
       "1116                ['Lab']                          ['Diane CALDER (SNP)']   \n",
       "1120                ['SNP']                         ['Lillian JONES (Lab)']   \n",
       "\n",
       "     top-3-truncation_single                                  top-two_multi  \\\n",
       "5                    ['Lab']                          ['Graham BELL (Con)']   \n",
       "18                   ['SNP']                            ['Dave KING (Lab)']   \n",
       "21                   ['SNP']                        ['Archie GRAHAM (Lab)']   \n",
       "32                   ['SNP']                      ['Aileen COLLERAN (Lab)']   \n",
       "60                   ['Lab']  ['# ALTERNATIVE NAME 4: John Flanagan (Lab)']   \n",
       "...                      ...                                            ...   \n",
       "1048                 ['Con']                        ['Alan LAFFERTY (Lab)']   \n",
       "1054                 ['Lab']                     ['Norman HAMPSHIRE (Lab)']   \n",
       "1101    ['(Ind) Jim MCCOLM']                           ['(Ind) Jim MCCOLM']   \n",
       "1116                 ['Lab']                         ['Diane CALDER (SNP)']   \n",
       "1120                 ['SNP']                        ['Lillian JONES (Lab)']   \n",
       "\n",
       "     top-two_single  \n",
       "5           ['Lab']  \n",
       "18          ['SNP']  \n",
       "21          ['SNP']  \n",
       "32          ['SNP']  \n",
       "60          ['Lab']  \n",
       "...             ...  \n",
       "1048        ['Con']  \n",
       "1054        ['SNP']  \n",
       "1101        ['SNP']  \n",
       "1116        ['Lab']  \n",
       "1120        ['SNP']  \n",
       "\n",
       "[105 rows x 35 columns]"
      ]
     },
     "execution_count": 34,
     "metadata": {},
     "output_type": "execute_result"
    }
   ],
   "source": [
    "df[df['IRV_multi'].apply(get_party) != df['IRV_single']]"
   ]
  },
  {
   "cell_type": "code",
   "execution_count": 32,
   "metadata": {},
   "outputs": [
    {
     "data": {
      "text/plain": [
       "0                      ['Lab']\n",
       "1                      ['Con']\n",
       "2                      ['Con']\n",
       "3                      ['Con']\n",
       "4         ['Iain HOWIE (Ind)']\n",
       "                 ...          \n",
       "1123                   ['Lab']\n",
       "1124    ['Drew FILSON (Ind) ']\n",
       "1125                   ['SNP']\n",
       "1126                   ['SNP']\n",
       "1127                   ['SNP']\n",
       "Name: IRV_multi, Length: 1128, dtype: object"
      ]
     },
     "execution_count": 32,
     "metadata": {},
     "output_type": "execute_result"
    }
   ],
   "source": [
    "df['IRV_multi'].apply(get_party) #!= df['IRV_single']"
   ]
  },
  {
   "cell_type": "code",
   "execution_count": 33,
   "metadata": {},
   "outputs": [
    {
     "data": {
      "text/plain": [
       "0                      ['Lab']\n",
       "1                      ['Con']\n",
       "2                      ['Con']\n",
       "3                      ['Con']\n",
       "4         ['Iain HOWIE (Ind)']\n",
       "                 ...          \n",
       "1123                   ['Lab']\n",
       "1124    ['Drew FILSON (Ind) ']\n",
       "1125                   ['SNP']\n",
       "1126                   ['SNP']\n",
       "1127                   ['SNP']\n",
       "Name: IRV_single, Length: 1128, dtype: object"
      ]
     },
     "execution_count": 33,
     "metadata": {},
     "output_type": "execute_result"
    }
   ],
   "source": [
    "df['IRV_single']"
   ]
  },
  {
   "cell_type": "code",
   "execution_count": 35,
   "metadata": {},
   "outputs": [
    {
     "data": {
      "text/plain": [
       "Index(['merge_key', 'numCands_multi', 'numCands_single', 'IRV_multi',\n",
       "       'IRV_single', 'approval_multi', 'approval_single', 'borda-avg_multi',\n",
       "       'borda-avg_single', 'borda-om_multi', 'borda-om_single',\n",
       "       'borda-pm_multi', 'borda-pm_single', 'bucklin_multi', 'bucklin_single',\n",
       "       'condorcet_multi', 'condorcet_single', 'file_multi', 'file_single',\n",
       "       'minimax_multi', 'minimax_single', 'plurality_multi',\n",
       "       'plurality_single', 'ranked-pairs_multi', 'ranked-pairs_single',\n",
       "       'smith-minimax_multi', 'smith-minimax_single', 'smith_irv_multi',\n",
       "       'smith_irv_single', 'smith_plurality_multi', 'smith_plurality_single',\n",
       "       'top-3-truncation_multi', 'top-3-truncation_single', 'top-two_multi',\n",
       "       'top-two_single'],\n",
       "      dtype='object')"
      ]
     },
     "execution_count": 35,
     "metadata": {},
     "output_type": "execute_result"
    }
   ],
   "source": [
    "df.columns"
   ]
  },
  {
   "cell_type": "code",
   "execution_count": 30,
   "metadata": {},
   "outputs": [
    {
     "data": {
      "text/html": [
       "<div>\n",
       "<style scoped>\n",
       "    .dataframe tbody tr th:only-of-type {\n",
       "        vertical-align: middle;\n",
       "    }\n",
       "\n",
       "    .dataframe tbody tr th {\n",
       "        vertical-align: top;\n",
       "    }\n",
       "\n",
       "    .dataframe thead th {\n",
       "        text-align: right;\n",
       "    }\n",
       "</style>\n",
       "<table border=\"1\" class=\"dataframe\">\n",
       "  <thead>\n",
       "    <tr style=\"text-align: right;\">\n",
       "      <th></th>\n",
       "      <th>borda-om</th>\n",
       "      <th>top4_borda-om</th>\n",
       "    </tr>\n",
       "  </thead>\n",
       "  <tbody>\n",
       "    <tr>\n",
       "      <th>0</th>\n",
       "      <td>['LD']</td>\n",
       "      <td>['SNP']</td>\n",
       "    </tr>\n",
       "    <tr>\n",
       "      <th>1</th>\n",
       "      <td>['Robin CURRIE (LD)']</td>\n",
       "      <td>['Dougie MCFADZEAN (SNP)']</td>\n",
       "    </tr>\n",
       "  </tbody>\n",
       "</table>\n",
       "</div>"
      ],
      "text/plain": [
       "                borda-om               top4_borda-om\n",
       "0                 ['LD']                     ['SNP']\n",
       "1  ['Robin CURRIE (LD)']  ['Dougie MCFADZEAN (SNP)']"
      ]
     },
     "execution_count": 30,
     "metadata": {},
     "output_type": "execute_result"
    }
   ],
   "source": [
    "df = pd.read_csv('/Users/xiaokaren/MyPythonCode/ranked_choice_voting/rcv_proposal/analysis/mimic_single_party/check.csv')\n",
    "df[['borda-om', 'top4_borda-om']]"
   ]
  },
  {
   "cell_type": "code",
   "execution_count": 31,
   "metadata": {},
   "outputs": [],
   "source": [
    "import sys\n",
    "sys.path.append('/Users/xiaokaren/MyPythonCode/ranked_choice_voting/rcv_proposal')\n",
    "import main_methods as mm\n",
    "import votekit.elections as v\n",
    "import pandas as pd\n",
    "import multiprocessing\n",
    "import csv\n",
    "import os\n"
   ]
  },
  {
   "cell_type": "code",
   "execution_count": 13,
   "metadata": {},
   "outputs": [],
   "source": [
    "def get_cands_to_keep(profile, num_cands, num_cands_to_keep):\n",
    "    # get top4 plurality winners\n",
    "        # if there are less than 5 candidates, then top4 and top5 are both the whole candidate list\n",
    "    if num_cands > num_cands_to_keep:\n",
    "        cands_to_keep = v.Plurality(profile=profile, m=num_cands_to_keep, tiebreak='random').election_states[-1].elected\n",
    "        cands_to_keep = [list(w)[0] for w in cands_to_keep]\n",
    "    else:\n",
    "        cands_to_keep = profile.candidates\n",
    "\n",
    "    return cands_to_keep"
   ]
  },
  {
   "cell_type": "code",
   "execution_count": 9,
   "metadata": {},
   "outputs": [],
   "source": [
    "v1 = mm.v_profile('/Users/xiaokaren/MyPythonCode/ranked_choice_voting/rcv_proposal/raw_data/scotland/processed_data/argyll22/Ward2-KintyreandtheIslands_ward2.csv')\n",
    "v2 = mm.v_profile('/Users/xiaokaren/MyPythonCode/ranked_choice_voting/rcv_proposal/analysis/mimic_single_party/data/argyll22/Ward2-KintyreandtheIslands_ward2.csv')"
   ]
  },
  {
   "cell_type": "code",
   "execution_count": 11,
   "metadata": {},
   "outputs": [
    {
     "name": "stdout",
     "output_type": "stream",
     "text": [
      "['Robin CURRIE (LD)']\n"
     ]
    }
   ],
   "source": [
    "print(list(mm.Borda_OM(prof=v1, tiebreak='random')))"
   ]
  },
  {
   "cell_type": "code",
   "execution_count": 12,
   "metadata": {},
   "outputs": [
    {
     "name": "stdout",
     "output_type": "stream",
     "text": [
      "['LD']\n"
     ]
    }
   ],
   "source": [
    "print(list(mm.Borda_OM(prof=v2, tiebreak='random')))"
   ]
  },
  {
   "cell_type": "code",
   "execution_count": 18,
   "metadata": {},
   "outputs": [
    {
     "data": {
      "text/plain": [
       "['Dougie MCFADZEAN (SNP)', 'John MCALPINE (Ind)', 'Robin CURRIE (LD)']"
      ]
     },
     "execution_count": 18,
     "metadata": {},
     "output_type": "execute_result"
    }
   ],
   "source": [
    "get_cands_to_keep(v1, len(v1.candidates), 4)"
   ]
  },
  {
   "cell_type": "code",
   "execution_count": 19,
   "metadata": {},
   "outputs": [
    {
     "data": {
      "text/plain": [
       "['SNP', 'John MCALPINE (Ind)', 'LD']"
      ]
     },
     "execution_count": 19,
     "metadata": {},
     "output_type": "execute_result"
    }
   ],
   "source": [
    "get_cands_to_keep(v2, len(v2.candidates), 4)"
   ]
  },
  {
   "cell_type": "code",
   "execution_count": 29,
   "metadata": {},
   "outputs": [
    {
     "name": "stdout",
     "output_type": "stream",
     "text": [
      "['Dougie MCFADZEAN (SNP)']\n",
      "['Dougie MCFADZEAN (SNP)']\n",
      "['Dougie MCFADZEAN (SNP)']\n",
      "['Dougie MCFADZEAN (SNP)']\n",
      "['Dougie MCFADZEAN (SNP)']\n",
      "['Dougie MCFADZEAN (SNP)']\n",
      "['Dougie MCFADZEAN (SNP)']\n",
      "['Dougie MCFADZEAN (SNP)']\n",
      "['Dougie MCFADZEAN (SNP)']\n",
      "['Dougie MCFADZEAN (SNP)']\n"
     ]
    }
   ],
   "source": [
    "for i in range(10):\n",
    "    print(list(mm.Borda_OM(prof=v1, tiebreak='random', cands_to_keep=get_cands_to_keep(v1, len(v1.candidates), 4))))"
   ]
  },
  {
   "cell_type": "code",
   "execution_count": 28,
   "metadata": {},
   "outputs": [
    {
     "name": "stdout",
     "output_type": "stream",
     "text": [
      "['SNP']\n",
      "['SNP']\n",
      "['SNP']\n",
      "['SNP']\n",
      "['SNP']\n",
      "['SNP']\n",
      "['SNP']\n",
      "['SNP']\n",
      "['SNP']\n",
      "['SNP']\n"
     ]
    }
   ],
   "source": [
    "for i in range(10):\n",
    "    print(list(mm.Borda_OM(prof=v2, tiebreak='random', cands_to_keep=get_cands_to_keep(v2, len(v2.candidates), 4))))"
   ]
  },
  {
   "cell_type": "code",
   "execution_count": 2,
   "metadata": {},
   "outputs": [],
   "source": [
    "df = pd.read_csv('/Users/xiaokaren/MyPythonCode/ranked_choice_voting/rcv_proposal/analysis/mimic_single_party/methods/first_place_score/scotland_results_top4.csv')"
   ]
  },
  {
   "cell_type": "code",
   "execution_count": 5,
   "metadata": {},
   "outputs": [
    {
     "data": {
      "text/html": [
       "<div>\n",
       "<style scoped>\n",
       "    .dataframe tbody tr th:only-of-type {\n",
       "        vertical-align: middle;\n",
       "    }\n",
       "\n",
       "    .dataframe tbody tr th {\n",
       "        vertical-align: top;\n",
       "    }\n",
       "\n",
       "    .dataframe thead th {\n",
       "        text-align: right;\n",
       "    }\n",
       "</style>\n",
       "<table border=\"1\" class=\"dataframe\">\n",
       "  <thead>\n",
       "    <tr style=\"text-align: right;\">\n",
       "      <th></th>\n",
       "      <th>file</th>\n",
       "      <th>numCands</th>\n",
       "      <th>plurality</th>\n",
       "      <th>IRV</th>\n",
       "      <th>top-two</th>\n",
       "      <th>borda-pm</th>\n",
       "      <th>borda-om</th>\n",
       "      <th>borda-avg</th>\n",
       "      <th>top-3-truncation</th>\n",
       "      <th>condorcet</th>\n",
       "      <th>...</th>\n",
       "      <th>top4_borda-avg</th>\n",
       "      <th>top4_top-3-truncation</th>\n",
       "      <th>top4_condorcet</th>\n",
       "      <th>top4_minimax</th>\n",
       "      <th>top4_smith_plurality</th>\n",
       "      <th>top4_smith_irv</th>\n",
       "      <th>top4_smith-minimax</th>\n",
       "      <th>top4_ranked-pairs</th>\n",
       "      <th>top4_bucklin</th>\n",
       "      <th>top4_approval</th>\n",
       "    </tr>\n",
       "  </thead>\n",
       "  <tbody>\n",
       "  </tbody>\n",
       "</table>\n",
       "<p>0 rows × 32 columns</p>\n",
       "</div>"
      ],
      "text/plain": [
       "Empty DataFrame\n",
       "Columns: [file, numCands, plurality, IRV, top-two, borda-pm, borda-om, borda-avg, top-3-truncation, condorcet, minimax, smith_plurality, smith_irv, smith-minimax, ranked-pairs, bucklin, approval, top4_plurality, top4_IRV, top4_top-two, top4_borda-pm, top4_borda-om, top4_borda-avg, top4_top-3-truncation, top4_condorcet, top4_minimax, top4_smith_plurality, top4_smith_irv, top4_smith-minimax, top4_ranked-pairs, top4_bucklin, top4_approval]\n",
       "Index: []\n",
       "\n",
       "[0 rows x 32 columns]"
      ]
     },
     "execution_count": 5,
     "metadata": {},
     "output_type": "execute_result"
    }
   ],
   "source": [
    "df[df['file'] == 'raw_data/scotland/processed_data/dumgal12-ballots/CastleDouglasandGlenkensWard_dumgal12-05.csv']"
   ]
  },
  {
   "cell_type": "code",
   "execution_count": 1,
   "metadata": {},
   "outputs": [],
   "source": [
    "d = {'test02':0,'test04':0}"
   ]
  },
  {
   "cell_type": "code",
   "execution_count": 4,
   "metadata": {},
   "outputs": [
    {
     "data": {
      "text/plain": [
       "[]"
      ]
     },
     "execution_count": 4,
     "metadata": {},
     "output_type": "execute_result"
    }
   ],
   "source": [
    "cands = [a for a in d.keys() if a.endswith('03')]\n",
    "cands"
   ]
  },
  {
   "cell_type": "code",
   "execution_count": null,
   "metadata": {},
   "outputs": [],
   "source": []
  }
 ],
 "metadata": {
  "kernelspec": {
   "display_name": "Python 3",
   "language": "python",
   "name": "python3"
  },
  "language_info": {
   "codemirror_mode": {
    "name": "ipython",
    "version": 3
   },
   "file_extension": ".py",
   "mimetype": "text/x-python",
   "name": "python",
   "nbconvert_exporter": "python",
   "pygments_lexer": "ipython3",
   "version": "3.12.7"
  }
 },
 "nbformat": 4,
 "nbformat_minor": 2
}
