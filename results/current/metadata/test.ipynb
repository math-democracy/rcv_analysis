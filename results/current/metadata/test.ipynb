{
 "cells": [
  {
   "cell_type": "code",
   "execution_count": 5,
   "metadata": {},
   "outputs": [],
   "source": [
    "import pandas as pd\n",
    "import sys\n",
    "sys.path.append('/Users/xiaokaren/MyPythonCode/ranked_choice_voting/rcv_proposal')\n",
    "from helper.new_csv_loader import new_loader\n",
    "#-------------------------------------------------------------------------------------------\n",
    "#existing voting methods in votekit \n",
    "import votekit.elections as v\n",
    "#import pref_voting.voting_methods as p #\n",
    "\n",
    "#-------------------------------------------------------------------------------------------\n",
    "#cleaning and other logistics\n",
    "from votekit.cleaning import remove_noncands\n",
    "from votekit.ballot import Ballot\n",
    "from votekit.pref_profile import PreferenceProfile"
   ]
  },
  {
   "cell_type": "code",
   "execution_count": 3,
   "metadata": {},
   "outputs": [],
   "source": [
    "def process_cands(\n",
    "        prof: PreferenceProfile, \n",
    "        cands_to_keep: list\n",
    "    )-> PreferenceProfile:\n",
    "    if len(cands_to_keep)<len(prof.candidates):\n",
    "        noncands = [c for c in prof.candidates if c not in cands_to_keep]\n",
    "        prof = remove_noncands(prof, noncands) ##at this point prof only has cands_to_keep. Will include UWI iff UWI is in cands_to_keep. This profile has no 'skipped' positions\n",
    "\n",
    "    return prof"
   ]
  },
  {
   "cell_type": "code",
   "execution_count": 6,
   "metadata": {},
   "outputs": [],
   "source": [
    "#votekit\n",
    "def v_profile(\n",
    "        filename: str, \n",
    "        to_remove: list = [\"undervote\", \"overvote\", \"UWI\",\"uwi\"]\n",
    "    )-> PreferenceProfile:\n",
    "    return remove_noncands(new_loader(filename)[0], to_remove)"
   ]
  },
  {
   "cell_type": "code",
   "execution_count": 7,
   "metadata": {},
   "outputs": [],
   "source": [
    "filename = 'Eastpointe, MI/Eastpointe_11022021_CityCouncil.csv'\n",
    "filepath = '/Users/xiaokaren/MyPythonCode/ranked_choice_voting/rcv_proposal/raw_data/america/processed_data'"
   ]
  },
  {
   "cell_type": "code",
   "execution_count": 8,
   "metadata": {},
   "outputs": [],
   "source": [
    "profile = v_profile(filepath+'/'+filename)"
   ]
  },
  {
   "cell_type": "code",
   "execution_count": 15,
   "metadata": {},
   "outputs": [
    {
     "name": "stdout",
     "output_type": "stream",
     "text": [
      "6\n"
     ]
    }
   ],
   "source": [
    "print(len([x for x in profile.candidates if x != 'skipped']))"
   ]
  },
  {
   "cell_type": "code",
   "execution_count": 14,
   "metadata": {},
   "outputs": [
    {
     "name": "stdout",
     "output_type": "stream",
     "text": [
      "7\n"
     ]
    }
   ],
   "source": [
    "print(len(profile.candidates))"
   ]
  },
  {
   "cell_type": "code",
   "execution_count": null,
   "metadata": {},
   "outputs": [],
   "source": []
  }
 ],
 "metadata": {
  "kernelspec": {
   "display_name": "Python 3",
   "language": "python",
   "name": "python3"
  },
  "language_info": {
   "codemirror_mode": {
    "name": "ipython",
    "version": 3
   },
   "file_extension": ".py",
   "mimetype": "text/x-python",
   "name": "python",
   "nbconvert_exporter": "python",
   "pygments_lexer": "ipython3",
   "version": "3.12.7"
  }
 },
 "nbformat": 4,
 "nbformat_minor": 2
}
