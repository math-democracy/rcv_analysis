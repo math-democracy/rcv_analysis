{
 "cells": [
  {
   "cell_type": "code",
   "execution_count": 1,
   "id": "12a3a910-0c35-4ac7-a8a3-4807f55f3240",
   "metadata": {},
   "outputs": [],
   "source": [
    "import json\n",
    "import pandas as pd\n",
    "import numpy as np\n",
    "import os\n",
    "import sys\n",
    "sys.path.append(os.path.abspath('pref_voting/'))\n",
    "from new_csv_loader import new_loader\n",
    "import pref_voting_methods as creator\n",
    "\n",
    "#existing voting methods in both votekit and pref_voting. Default packages should ideally be assigned based on which package does each method better!\n",
    "import votekit.elections as v\n",
    "\n",
    "import pref_voting.voting_methods as p #\n",
    "\n",
    "#cleaning and other logistics\n",
    "from votekit.cleaning import remove_noncands\n",
    "from votekit.pref_profile import PreferenceProfile\n",
    "\n"
   ]
  },
  {
   "cell_type": "code",
   "execution_count": 2,
   "id": "9ff749c6-2506-4f7b-b022-3fd087fedaed",
   "metadata": {},
   "outputs": [],
   "source": [
    "#profile conversion for both votekit and pref_voting packages\n",
    "\n",
    "#votekit\n",
    "def v_profile(filename, to_remove = [\"undervote\", \"overvote\", \"UWI\"]):\n",
    "    return remove_noncands(new_loader(filename)[0], to_remove)\n",
    "\n",
    "#pref_voting\n",
    "def p_profile(filename):\n",
    "    return creator.create_profile(filename)\n",
    "    \n"
   ]
  },
  {
   "cell_type": "code",
   "execution_count": 3,
   "id": "bdfbf58e-04c5-4ba6-89cc-fa336f0f4d50",
   "metadata": {},
   "outputs": [],
   "source": [
    "#Plurality - can choose package\n",
    "def Plurality(\n",
    "    filename: str,\n",
    "    package: str = \"pref_voting\"\n",
    "):\n",
    "    \n",
    "    elected=\"unknown\"\n",
    "    if package==\"pref_voting\":\n",
    "        prof, file_path, candidates_with_indices = p_profile(filename)\n",
    "        el = p.plurality(prof, candidates_with_indices)[0]\n",
    "        elected = candidates_with_indices[el]\n",
    "    \n",
    "    else:\n",
    "        prof= v_profile(filename)\n",
    "        elected = list(v.Plurality(profile = prof).election_states[-1].elected[0])[0]\n",
    "\n",
    "    \n",
    "    return elected\n",
    "     \n",
    "    "
   ]
  },
  {
   "cell_type": "code",
   "execution_count": 4,
   "id": "b53eba91-89ae-406a-90c5-742e45272300",
   "metadata": {},
   "outputs": [],
   "source": [
    "#IRV - can choose package\n",
    "\n",
    "def IRV(\n",
    "    filename: str, \n",
    "    package :str = \"votekit\"\n",
    "):\n",
    "    elected = \"unknown\"\n",
    "    if package==\"votekit\":\n",
    "        prof= v_profile(filename)\n",
    "        elected = list(v.IRV(profile = prof).election_states[-1].elected[0])[0]\n",
    "    \n",
    "        \n",
    "    else:\n",
    "        prof, file_path, candidates_with_indices = p_profile(filename)\n",
    "        el = p.instant_runoff_for_truncated_linear_orders(prof, candidates_with_indices)[0]\n",
    "        elected = candidates_with_indices[el]\n",
    "        \n",
    "      \n",
    "    return elected\n",
    "        \n",
    "\n",
    "        \n",
    "\n",
    "    \n"
   ]
  },
  {
   "cell_type": "code",
   "execution_count": 5,
   "id": "915d2a68-2a9b-4274-bad5-0f1adfea8755",
   "metadata": {},
   "outputs": [],
   "source": [
    "#top-two IRV\n",
    "\n",
    "def TopTwo(\n",
    "    filename: str\n",
    "):  \n",
    "    elected = \"unknown\"\n",
    "    prof=v_profile(filename)\n",
    "    elected = list(v.TopTwo(profile = prof).election_states[-1].elected[0])[0]\n",
    "        \n",
    "    return elected\n",
    "        \n",
    "    "
   ]
  },
  {
   "cell_type": "code",
   "execution_count": 6,
   "id": "12707ccf-a01d-4165-ab89-b71669c80172",
   "metadata": {},
   "outputs": [],
   "source": [
    "#Borda methods - we use votekit\n",
    "\n",
    "#right now this is the only method that takes in cands_to_keep. Must change so that every single method does this. \n",
    "def Borda_PM(\n",
    "    filename: str,\n",
    "    cands_to_keep: list[str] #include UWI in this if we want to keep it. If we want to keep everyone feed in full list of candidates\n",
    "):\n",
    "    prof= v_profile(filename)\n",
    "    if 'skipped' in cands_to_keep:## remove 'skipped' from cands_to_keep\n",
    "        cands_to_keep = list(filter(lambda c: c != 'skipped', cands_to_keep))\n",
    "        \n",
    "    if len(cands_to_keep)<len(prof.candidates):\n",
    "        noncands = [c for c in prof.candidates if c not in cands_to_keep]\n",
    "        prof = remove_noncands(prof, noncands) ##at this point prof only has cands_to_keep. Will include UWI iff UWI is in cands_to_keep. This profile has no 'skipped' positions\n",
    "\n",
    "    max_score=len(prof.candidates)-1 ##this will be equal to len(non_UWI_cands)-1 if UWI not in cands_to_keep, and to len(cands_to_keep)-1 if UWI is in cands_to_keep\n",
    "    vector = []\n",
    "    for i in range(len(prof.candidates)):\n",
    "        vector.append(max_score-i)\n",
    "    elected = list(v.Borda(profile = prof, score_vector = vector).election_states[-1].elected[0])[0]\n",
    "    return elected\n",
    "  \n",
    "#Borda OM\n",
    "\n",
    "\n",
    "\n",
    "\n",
    "#Borda AVG\n",
    "\n",
    "\n",
    "#top3 truncation using 3-2-1. converts to 2-1 if we are only keeping 2 candidates\n",
    "def Top3Truncation(\n",
    "    filename: str,\n",
    "    cands_to_keep: list[str] #include UWI in this if we want to keep it. If we want to keep everyone feed in full list of candidates\n",
    "):\n",
    "    prof= v_profile(filename)\n",
    "    if 'skipped' in cands_to_keep:## remove 'skipped' from cands_to_keep\n",
    "        cands_to_keep = list(filter(lambda c: c != 'skipped', cands_to_keep))\n",
    "        \n",
    "    if len(cands_to_keep)<len(prof.candidates):\n",
    "        noncands = [c for c in prof.candidates if c not in cands_to_keep]\n",
    "        prof = remove_noncands(prof, noncands) ##at this point prof only has cands_to_keep. Will include UWI iff UWI is in cands_to_keep. This profile has no 'skipped' positions\n",
    "    if len(prof.candidates)==0:\n",
    "        return 'skipped'\n",
    "    elif len(prof.candidates)==1:\n",
    "        return prof.candidates[0]\n",
    "    \n",
    "    if len(prof.candidates)==2:\n",
    "        vector = [2,1]\n",
    "        \n",
    "    else:\n",
    "        vector = [3,2,1]+[0 for i in range(len(prof.candidates) -3)]\n",
    "    elected = list(v.Borda(profile = prof, score_vector = vector).election_states[-1].elected[0])[0]\n",
    "    return elected\n",
    "    \n",
    "    \n",
    "    \n",
    "    \n"
   ]
  },
  {
   "cell_type": "code",
   "execution_count": 7,
   "id": "2a433193-5fe7-417c-b4a2-5e17b538d36f",
   "metadata": {},
   "outputs": [],
   "source": [
    "#Condorcet methods - we use pref_voting\n",
    "\n",
    "\n",
    "#regular Condorcet: returns Condorcet winner if there exists once, else returns everyone\n",
    "def Condorcet(\n",
    "    filename: str\n",
    "):\n",
    "    prof, file_path, candidates_with_indices = p_profile(filename)\n",
    "    el = p.condorcet(prof)\n",
    "    elected = [candidates_with_indices[c] for c in el]\n",
    "    return elected\n",
    "\n",
    "\n",
    "\n",
    "#minimax: returns list of minimax winners\n",
    "def Minimax(\n",
    "    filename: str\n",
    "):\n",
    "    prof, file_path, candidates_with_indices = p_profile(filename)\n",
    "    el = p.minimax(prof)\n",
    "    elected = [candidates_with_indices[c] for c in el]\n",
    "    return elected\n",
    "    \n",
    "\n",
    "#Smith set: returns Smith set as a list\n",
    "def Smith(\n",
    "    filename: str\n",
    "):\n",
    "    prof, file_path, candidates_with_indices = p_profile(filename)\n",
    "    el = p.top_cycle(prof)\n",
    "    elected = [candidates_with_indices[c] for c in el]\n",
    "    return elected\n",
    "\n",
    "\n",
    "#Smith-IRV: this one is causing errors\n",
    "def Smith_IRV(\n",
    "    filename: str\n",
    "):\n",
    "    prof, file_path, candidates_with_indices = p_profile(filename)\n",
    "    el = p.smith_irv(prof)\n",
    "    elected = [candidates_with_indices[x] for x in el]\n",
    "    \n",
    "    return elected\n",
    "    \n",
    "#Smith-minimax\n",
    "def Smith_minimax(\n",
    "    filename: str\n",
    "):\n",
    "    prof, file_path, candidates_with_indices = p_profile(filename)\n",
    "    el = p.smith_minimax(prof)\n",
    "    elected = [candidates_with_indices[x] for x in el]\n",
    "    \n",
    "    return elected\n",
    "\n",
    "#ranked pairs\n",
    "def Ranked_Pairs(\n",
    "    filename: str\n",
    "):\n",
    "    prof, file_path, candidates_with_indices = p_profile(filename)\n",
    "    el = p.ranked_pairs(prof)\n",
    "    elected = [candidates_with_indices[c] for c in el]\n",
    "    return elected\n",
    "\n",
    "\n",
    "#Condorcet plurality\n",
    "\n"
   ]
  },
  {
   "cell_type": "code",
   "execution_count": 8,
   "id": "a20a2683-0ccf-41b1-a421-37bfcf585bc0",
   "metadata": {},
   "outputs": [],
   "source": [
    "#Bucklin - this is causing errors. Currently uses pref_voting\n",
    "\n",
    "def Bucklin(\n",
    "    filename: str,\n",
    "    package: str = \"pref_voting\"\n",
    "):\n",
    "    elected = []\n",
    "    prof, file_path, candidates_with_indices = p_profile(filename)\n",
    "    el = p.bucklin(prof)\n",
    "    elected = [candidates_with_indices[x] for x in el]\n",
    "    \n",
    "    return elected\n",
    "        \n",
    "        "
   ]
  },
  {
   "cell_type": "code",
   "execution_count": 11,
   "id": "cf211b9c-1219-4a25-8daf-a1a552fa024f",
   "metadata": {},
   "outputs": [],
   "source": [
    "file = \"scotland/processed_data/aberdeen2012/Ward1-Dyce-Bucksburn-Danestone_aberdeen12-01.csv\"\n"
   ]
  },
  {
   "cell_type": "code",
   "execution_count": 24,
   "id": "358882ba-085f-4b7a-bd5f-d400feee57f5",
   "metadata": {},
   "outputs": [
    {
     "name": "stdout",
     "output_type": "stream",
     "text": [
      "votekit\n",
      "The plurality winner is  (Lab) Barney CROCKETT\n",
      "The IRV winner is  (SNP) Neil MACGREGOR\n",
      "pref_voting\n",
      "The plurality winner is  (Lab) Barney CROCKETT\n",
      "The IRV winner is  (SNP) Neil MACGREGOR\n"
     ]
    }
   ],
   "source": [
    "##Testing\n",
    "\n",
    "for package in [\"votekit\", \"pref_voting\"]:\n",
    "    print(package)\n",
    "    print(\"The plurality winner is \",Plurality(file, package))\n",
    "    print(\"The IRV winner is \",IRV(file, package))\n",
    "    "
   ]
  },
  {
   "cell_type": "code",
   "execution_count": 26,
   "id": "1cd999c0-1e37-43f7-a1d5-4c6dfa6b2e16",
   "metadata": {},
   "outputs": [
    {
     "data": {
      "text/plain": [
       "'(SNP) Neil MACGREGOR'"
      ]
     },
     "execution_count": 26,
     "metadata": {},
     "output_type": "execute_result"
    }
   ],
   "source": [
    "TopTwo(file)"
   ]
  },
  {
   "cell_type": "code",
   "execution_count": 28,
   "id": "1a5cba5f-b048-479e-ab14-ee41fd63a1ce",
   "metadata": {},
   "outputs": [
    {
     "data": {
      "text/plain": [
       "['(Lab) Barney CROCKETT']"
      ]
     },
     "execution_count": 28,
     "metadata": {},
     "output_type": "execute_result"
    }
   ],
   "source": [
    "Condorcet(file)"
   ]
  },
  {
   "cell_type": "code",
   "execution_count": 30,
   "id": "18dd81fb-ecf4-46a0-87e7-8c5b49230ad5",
   "metadata": {},
   "outputs": [
    {
     "data": {
      "text/plain": [
       "['(Lab) Barney CROCKETT']"
      ]
     },
     "execution_count": 30,
     "metadata": {},
     "output_type": "execute_result"
    }
   ],
   "source": [
    "Smith(file)"
   ]
  },
  {
   "cell_type": "code",
   "execution_count": 32,
   "id": "fc359e30-43aa-4496-8cce-74866a7d6c50",
   "metadata": {},
   "outputs": [
    {
     "data": {
      "text/plain": [
       "['(Lab) Barney CROCKETT']"
      ]
     },
     "execution_count": 32,
     "metadata": {},
     "output_type": "execute_result"
    }
   ],
   "source": [
    "Minimax(file)"
   ]
  },
  {
   "cell_type": "code",
   "execution_count": 34,
   "id": "3a409341-bb71-4ea8-9d78-91a60fb9435e",
   "metadata": {},
   "outputs": [
    {
     "data": {
      "text/plain": [
       "['(Lab) Barney CROCKETT']"
      ]
     },
     "execution_count": 34,
     "metadata": {},
     "output_type": "execute_result"
    }
   ],
   "source": [
    "Ranked_Pairs(file)"
   ]
  },
  {
   "cell_type": "code",
   "execution_count": 40,
   "id": "728c4a9d-111b-42da-948d-5ce616d46148",
   "metadata": {},
   "outputs": [
    {
     "data": {
      "text/plain": [
       "'(SNP) Neil MACGREGOR'"
      ]
     },
     "execution_count": 40,
     "metadata": {},
     "output_type": "execute_result"
    }
   ],
   "source": [
    "Borda_PM(file, cands_to_keep = v_profile(file).candidates)"
   ]
  },
  {
   "cell_type": "code",
   "execution_count": 46,
   "id": "58161578-6fb6-422b-870b-8ed330b69b26",
   "metadata": {},
   "outputs": [
    {
     "data": {
      "text/plain": [
       "'(SNP) Neil MACGREGOR'"
      ]
     },
     "execution_count": 46,
     "metadata": {},
     "output_type": "execute_result"
    }
   ],
   "source": [
    "Top3Truncation(file, cands_to_keep = v_profile(file).candidates)"
   ]
  },
  {
   "cell_type": "code",
   "execution_count": null,
   "id": "f463b172-28b8-4849-812f-ed1dd4c7da30",
   "metadata": {},
   "outputs": [],
   "source": []
  }
 ],
 "metadata": {
  "kernelspec": {
   "display_name": "Python [conda env:base] *",
   "language": "python",
   "name": "conda-base-py"
  },
  "language_info": {
   "codemirror_mode": {
    "name": "ipython",
    "version": 3
   },
   "file_extension": ".py",
   "mimetype": "text/x-python",
   "name": "python",
   "nbconvert_exporter": "python",
   "pygments_lexer": "ipython3",
   "version": "3.12.4"
  }
 },
 "nbformat": 4,
 "nbformat_minor": 5
}
