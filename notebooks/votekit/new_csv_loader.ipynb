{
 "cells": [
  {
   "cell_type": "code",
   "execution_count": 266,
   "id": "b3b775a6-f33d-40bc-8ac5-4967583bfe4c",
   "metadata": {},
   "outputs": [],
   "source": [
    "from fractions import Fraction\n",
    "import os\n",
    "import csv\n",
    "import pandas as pd\n",
    "from pandas.errors import EmptyDataError, DataError\n",
    "import pathlib\n",
    "from typing import Optional\n",
    "\n",
    "from votekit.pref_profile import PreferenceProfile\n",
    "from votekit.ballot import Ballot\n",
    "from votekit.elections import STV\n",
    "\n"
   ]
  },
  {
   "cell_type": "code",
   "execution_count": 431,
   "id": "42412559-2760-41a4-9174-2fd92c7f82fd",
   "metadata": {},
   "outputs": [],
   "source": [
    "def new_loader(   \n",
    "    ##converts our csv files to PreferenceProfiles \n",
    "    fpa: str,\n",
    "    seats_col: Optional[int] = None, ##index of numseats column. could be -1 or -2 or None based on our formatting\n",
    "    #id_col: Optional[int] = None, #\n",
    "    #index of voterid column  \n",
    "    #rank_cols: list[int] = [],\n",
    "    #weight_col: Optional[int] = None,\n",
    " \n",
    "):\n",
    "    df = pd.read_csv(\n",
    "        fpa,\n",
    "        on_bad_lines=\"error\",\n",
    "        encoding=\"utf8\",\n",
    "        index_col=False,\n",
    "        delimiter=None,\n",
    "    )\n",
    "    if not os.path.isfile(fpa):\n",
    "        raise FileNotFoundError(f\"File with path {fpath} cannot be found\")\n",
    "\n",
    "    fpa = pathlib.Path(fpa)\n",
    "\n",
    "    if df.empty:\n",
    "        raise EmptyDataError(\"Dataset cannot be empty\")\n",
    "#    if id_col is not None and df.iloc[:, id_col].isnull().values.any():  # type: ignore\n",
    "#        raise ValueError(f\"Missing value(s) in column at index {id_col}\")\n",
    "#    if id_col is not None and not df.iloc[:, id_col].is_unique:\n",
    "#        raise DataError(f\"Duplicate value(s) in column at index {id_col}\")\n",
    "\n",
    "    ranks = list(x for x in df.columns if str(x)[:4] == \"rank\")\n",
    "    num_seats = 1\n",
    "\n",
    "    if seats_col:\n",
    "        num_seats = df.iloc[0,seats_col] ##might need to change based on the num seats column \n",
    "    \n",
    "    df = df.loc[:,ranks]\n",
    "    grouped = df.groupby(ranks, dropna=False)\n",
    "    ballots = []\n",
    "\n",
    "    for group, group_df in grouped:\n",
    "        ranking = tuple(\n",
    "            [frozenset({None}) if pd.isnull(c) else frozenset({str(c)}) for c in group]\n",
    "        )\n",
    "        voter_set = None\n",
    "        if id_col is not None:\n",
    "            voter_set = set(str(group_df.iloc[:, id_col]))\n",
    "        weight = len(group_df)\n",
    "        if weight_col is not None:\n",
    "            weight = sum(group_df.iloc[:, weight_col])\n",
    "        b = Ballot(ranking=ranking, weight=Fraction(weight), voter_set=voter_set)\n",
    "        ballots.append(b)\n",
    "    return (PreferenceProfile(ballots=tuple(ballots)), num_seats)\n",
    "\n",
    "\n",
    "    "
   ]
  },
  {
   "cell_type": "code",
   "execution_count": 486,
   "id": "4dda3598-a839-4b21-82a6-706be2040545",
   "metadata": {
    "scrolled": true
   },
   "outputs": [
    {
     "name": "stdout",
     "output_type": "stream",
     "text": [
      "517aa351f6.csv\n",
      "Initial tiebreak was unsuccessful, performing random tiebreak\n",
      "Initial tiebreak was unsuccessful, performing random tiebreak\n",
      "             Status  Round\n",
      "13          Elected     11\n",
      "2         Remaining     11\n",
      "1         Remaining     11\n",
      "3         Remaining     11\n",
      "12       Eliminated     10\n",
      "4        Eliminated      9\n",
      "5        Eliminated      8\n",
      "8        Eliminated      7\n",
      "Skipped  Eliminated      6\n",
      "6        Eliminated      5\n",
      "11       Eliminated      4\n",
      "10       Eliminated      3\n",
      "7        Eliminated      2\n",
      "9        Eliminated      1\n"
     ]
    }
   ],
   "source": [
    "dir = \"../rcv_proposal/civs/\"\n",
    "file=list(os.walk(dir))[0][2][100]\n",
    "print(file)\n",
    "profile, num_seats = new_loader(fpa = dir+file)\n",
    "clean_profile = remove_noncands(profile, [\"undervote\", \"overvote\", \"UWI\"])\n",
    "civs_election = STV(profile = clean_profile, m=num_seats)\n",
    "print(civs_election)\n"
   ]
  },
  {
   "cell_type": "code",
   "execution_count": null,
   "id": "33d42c54-d10c-4f4b-82e2-ab69fdb19e7f",
   "metadata": {},
   "outputs": [],
   "source": []
  }
 ],
 "metadata": {
  "kernelspec": {
   "display_name": "Python [conda env:base] *",
   "language": "python",
   "name": "conda-base-py"
  },
  "language_info": {
   "codemirror_mode": {
    "name": "ipython",
    "version": 3
   },
   "file_extension": ".py",
   "mimetype": "text/x-python",
   "name": "python",
   "nbconvert_exporter": "python",
   "pygments_lexer": "ipython3",
   "version": "3.12.4"
  }
 },
 "nbformat": 4,
 "nbformat_minor": 5
}
